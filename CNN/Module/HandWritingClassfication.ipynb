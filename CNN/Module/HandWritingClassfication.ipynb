{
 "cells": [
  {
   "cell_type": "code",
   "execution_count": 1,
   "id": "2bca0314",
   "metadata": {},
   "outputs": [],
   "source": [
    "from torchvision import datasets, transforms\n",
    "import torch\n",
    "import os\n",
    "os.environ['KMP_DUPLICATE_LIB_OK']='True'"
   ]
  },
  {
   "cell_type": "code",
   "execution_count": 24,
   "id": "c248a35d",
   "metadata": {
    "scrolled": true
   },
   "outputs": [],
   "source": [
    "#Read MNIST dataset from folder\n",
    "from torch.utils.data import random_split\n",
    "origin_data = datasets.MNIST(root='./MINIST',\n",
    "                               train = True,\n",
    "                               transform = transforms.ToTensor())\n",
    "train_dataset, test_dataset = random_split(dataset = origin_data, lengths=[50000,10000],generator=torch.Generator().manual_seed(0))\n",
    "train_loader = torch.utils.data.DataLoader(dataset = train_dataset,\n",
    "                                           batch_size = 5,\n",
    "                                           shuffle = True)\n",
    "test_loader = torch.utils.data.DataLoader(dataset = test_dataset,\n",
    "                                           batch_size = 1,\n",
    "                                           shuffle = True)"
   ]
  },
  {
   "cell_type": "code",
   "execution_count": 25,
   "id": "31c32708",
   "metadata": {},
   "outputs": [
    {
     "name": "stdout",
     "output_type": "stream",
     "text": [
      "The Lable of this image is: 9\n"
     ]
    },
    {
     "data": {
      "image/png": "[encoded data removed]",
      "text/plain": [
       "<Figure size 640x480 with 1 Axes>"
      ]
     },
     "metadata": {},
     "output_type": "display_data"
    }
   ],
   "source": [
    "#This step showing the image example and the lable\n",
    "import matplotlib.pyplot as plt\n",
    "import torchvision\n",
    "images, lables = next(iter(train_loader))\n",
    "img = torchvision.utils.make_grid(images[0])#由于batch_size是5，我们取其中一张图片即可\n",
    "print(\"The Lable of this image is:\",lables[0].item())\n",
    "img = img.numpy().transpose(1,2,0)#转换为【28*28*3】的矩阵再转化为图像\n",
    "plt.imshow(img)\n",
    "plt.show()"
   ]
  },
  {
   "cell_type": "code",
   "execution_count": 26,
   "id": "86c8a800",
   "metadata": {},
   "outputs": [],
   "source": [
    "import torch.nn as nn\n",
    "import torch.nn.functional as F\n",
    "import torch.optim as optim\n",
    "#Create the CNN Module\n",
    "class CNN(nn.Module):\n",
    "    def __init__(self, n_input, n_output):\n",
    "        super(CNN, self).__init__()\n",
    "        self.conv1 = nn.Sequential(nn.Conv2d(n_input, 128, 3, 1, 0),\n",
    "                                   nn.MaxPool2d(2), #MaxPooling with 2*2 Kernel\n",
    "                                   nn.ReLU())\n",
    "        self.conv2 = nn.Sequential(nn.Conv2d(128, 256, 3, 1, 0),\n",
    "                                   nn.MaxPool2d(2),\n",
    "                                   nn.ReLU())\n",
    "        self.conv3 = nn.Sequential(nn.Conv2d(256, 512, 3, 1, 0),\n",
    "                                   nn.ReLU())\n",
    "        self.FN = nn.Linear(512*3*3,100)\n",
    "        self.FN2 = nn.Linear(100,10)\n",
    "    def forward(self, input):\n",
    "        out = self.conv1(input)\n",
    "        out = self.conv2(out)\n",
    "        out = self.conv3(out)\n",
    "        out = out.view(-1,512*3*3)\n",
    "        out = self.FN(out)\n",
    "        out = F.relu(out)\n",
    "        out = self.FN2(out)\n",
    "        out = F.softmax(out,dim=1)\n",
    "        return out\n",
    "    \n",
    "network = CNN(1,10)\n",
    "device = torch.device(\"cuda\" if torch.cuda.is_available() else \"cpu\")\n",
    "network.to(device)\n",
    "optimizer = optim.SGD(network.parameters(), lr=0.01, momentum=0.5)"
   ]
  },
  {
   "cell_type": "code",
   "execution_count": 27,
   "id": "2b6d0a46",
   "metadata": {},
   "outputs": [
    {
     "name": "stdout",
     "output_type": "stream",
     "text": [
      "Trained:0 batches, ths loss is 2.3008530139923096\n",
      "Trained:1000 batches, ths loss is 2.3208260536193848\n",
      "Trained:2000 batches, ths loss is 2.088243007659912\n",
      "Trained:3000 batches, ths loss is 1.6535966396331787\n",
      "Trained:4000 batches, ths loss is 1.8582866191864014\n",
      "Trained:5000 batches, ths loss is 1.4627351760864258\n",
      "Trained:6000 batches, ths loss is 1.6609588861465454\n",
      "Trained:7000 batches, ths loss is 1.4612267017364502\n",
      "Trained:8000 batches, ths loss is 1.6165626049041748\n",
      "Trained:9000 batches, ths loss is 1.4617962837219238\n"
     ]
    }
   ],
   "source": [
    "def train(epoch):\n",
    "  network.train()\n",
    "  for batch_idx, (data, target) in enumerate(train_loader):\n",
    "    data = data.cuda() #Move data from CPU to GPU\n",
    "    target = target.cuda()\n",
    "    optimizer.zero_grad()\n",
    "    output = network(data)\n",
    "    loss = F.cross_entropy(output, target)\n",
    "    loss.backward()\n",
    "    optimizer.step()\n",
    "    if batch_idx % 1000 == 0:\n",
    "        print(\"Trained:{0} batches, ths loss is {1}\".format(batch_idx,loss.data.item()))\n",
    "          \n",
    "train(1)"
   ]
  },
  {
   "cell_type": "code",
   "execution_count": 28,
   "id": "30796dda",
   "metadata": {},
   "outputs": [
    {
     "name": "stdout",
     "output_type": "stream",
     "text": [
      "The Actual Lable of this image is: 4\n",
      "The Prediction Lable of this image is: 4\n",
      "The Acc of this Prediction Lableis: 1.0\n"
     ]
    }
   ],
   "source": [
    "images, lables = next(iter(test_loader))\n",
    "img = images[0]#由于batch_size是5，我们取其中一张图片即可\n",
    "print(\"The Actual Lable of this image is:\",lables[0].item())\n",
    "pre = network(img.cuda())\n",
    "#pre.data.max(1)[1]中max(1)表示返回pre结果每一行的最大值并返回最大值在这一行的索引\n",
    "print(\"The Prediction Lable of this image is:\",pre.data.max(1,keepdim=True)[1].item())\n",
    "print(\"The Acc of this Prediction Lableis:\",pre.data.max(1,keepdim=True)[0].item())"
   ]
  },
  {
   "cell_type": "code",
   "execution_count": null,
   "id": "b3332913",
   "metadata": {},
   "outputs": [],
   "source": []
  }
 ],
 "metadata": {
  "kernelspec": {
   "display_name": "Python(DL)",
   "language": "python",
   "name": "dl"
  },
  "language_info": {
   "codemirror_mode": {
    "name": "ipython",
    "version": 3
   },
   "file_extension": ".py",
   "mimetype": "text/x-python",
   "name": "python",
   "nbconvert_exporter": "python",
   "pygments_lexer": "ipython3",
   "version": "3.9.18"
  }
 },
 "nbformat": 4,
 "nbformat_minor": 5
}
